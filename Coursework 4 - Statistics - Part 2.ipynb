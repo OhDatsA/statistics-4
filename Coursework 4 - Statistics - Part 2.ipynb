{
 "cells": [
  {
   "cell_type": "markdown",
   "id": "f4229000",
   "metadata": {},
   "source": [
    "# ECS7024 Statistics for Artificial Intelligence and Data Science\n",
    "\n",
    "# Coursework 4 - Part 2"
   ]
  },
  {
   "cell_type": "markdown",
   "id": "a091648c",
   "metadata": {},
   "source": [
    "## Additional Analysis of the Storks Data [50 Marks]"
   ]
  },
  {
   "cell_type": "markdown",
   "id": "b8477e8e",
   "metadata": {},
   "source": [
    "## Contents Page\n",
    "\n",
    "1. Section 1: Introduction\n",
    "  * Section 1.1: Outline\n",
    "  * Section 1.2: Loading the Data\n",
    "2. Section 2: Analysis 1 - Birth Rate\n",
    "  * Section 2.1: Regression Model 1\n",
    "  * Section 2.2: Regression Model 2\n",
    "  * Section 2.3: Bootstrap for the difference r2 between the models. \n",
    "3. Section 3: Analysis 2 - Number Of Storks\n",
    "  * Section 3.1: Regression Model 1\n",
    "  * Section 3.2: Regression Model 2\n",
    "  * Section 3.3: Bootstrap for the difference RMSE between the models. "
   ]
  },
  {
   "cell_type": "markdown",
   "id": "535f406c",
   "metadata": {},
   "source": [
    "## Section 1: Introduction"
   ]
  },
  {
   "cell_type": "code",
   "execution_count": 1,
   "id": "a3bf14a1",
   "metadata": {},
   "outputs": [],
   "source": [
    "import pandas as pd\n",
    "import numpy as np\n",
    "import matplotlib.pyplot as plt\n",
    "import seaborn as sns\n",
    "from sklearn.linear_model import LinearRegression\n",
    "from sklearn.metrics import mean_squared_error\n",
    "from sklearn.preprocessing import StandardScaler\n",
    "import scipy.stats as stats\n",
    "from sklearn.utils import resample\n",
    "\n",
    "%matplotlib inline"
   ]
  },
  {
   "cell_type": "markdown",
   "id": "6236170c",
   "metadata": {},
   "source": [
    "#### The Bootstrap technique (What is bootstrap and how does it work?)\n",
    "\n",
    "* Bootstrap is essentially a method of creating confidence intervals through creating samples from the original population. This allows us to estimate a confidence level of our statistic we are investigating and makes our testing more robust\n",
    "\n",
    "* We take a sample from the data and add it to the main data to increase the size. does this at random so everytine u do this u get different metrics and dataset.\n",
    "\n",
    "* In bootstrap we make the population a sample of the hypothetical population and we retrial this with different values of the original dataset for example 10 values, then added to the original dataset which is now the 'sample'. \n",
    "\n",
    "* We set a number of n to resample for example 500 which will give us 500 different regressions in this case we can then use and compare these 'samples' to check on robustness of our test and see any variation within the samples for example the mean and standard deviation."
   ]
  },
  {
   "cell_type": "markdown",
   "id": "457b920e",
   "metadata": {},
   "source": [
    "### Section 1.1: Outline\n",
    "\n",
    "Section 1 is the intro which loads the data. Section 2 we begin data preparation. Section 3 we analyse the trends in prices. In Section 4 we calculate the price changes, Section 5 we carry out statistical analysis and hypothesis testing."
   ]
  },
  {
   "cell_type": "markdown",
   "id": "0ec2a7ff",
   "metadata": {},
   "source": [
    "### Section 1.2: Loading the data\n",
    "The data is loaded from a CSV file. "
   ]
  },
  {
   "cell_type": "code",
   "execution_count": 2,
   "id": "525dff26",
   "metadata": {},
   "outputs": [
    {
     "data": {
      "text/html": [
       "<div>\n",
       "<style scoped>\n",
       "    .dataframe tbody tr th:only-of-type {\n",
       "        vertical-align: middle;\n",
       "    }\n",
       "\n",
       "    .dataframe tbody tr th {\n",
       "        vertical-align: top;\n",
       "    }\n",
       "\n",
       "    .dataframe thead th {\n",
       "        text-align: right;\n",
       "    }\n",
       "</style>\n",
       "<table border=\"1\" class=\"dataframe\">\n",
       "  <thead>\n",
       "    <tr style=\"text-align: right;\">\n",
       "      <th></th>\n",
       "      <th>Country</th>\n",
       "      <th>Area</th>\n",
       "      <th>Storks</th>\n",
       "      <th>Humans</th>\n",
       "      <th>BirthRate</th>\n",
       "      <th>SuitableAreaPercent</th>\n",
       "    </tr>\n",
       "  </thead>\n",
       "  <tbody>\n",
       "    <tr>\n",
       "      <th>0</th>\n",
       "      <td>Albania</td>\n",
       "      <td>28750</td>\n",
       "      <td>100</td>\n",
       "      <td>3.2</td>\n",
       "      <td>83</td>\n",
       "      <td>55.68</td>\n",
       "    </tr>\n",
       "    <tr>\n",
       "      <th>1</th>\n",
       "      <td>Austria</td>\n",
       "      <td>83860</td>\n",
       "      <td>300</td>\n",
       "      <td>7.6</td>\n",
       "      <td>87</td>\n",
       "      <td>38.34</td>\n",
       "    </tr>\n",
       "    <tr>\n",
       "      <th>2</th>\n",
       "      <td>Belgium</td>\n",
       "      <td>30520</td>\n",
       "      <td>1</td>\n",
       "      <td>9.9</td>\n",
       "      <td>118</td>\n",
       "      <td>65.93</td>\n",
       "    </tr>\n",
       "    <tr>\n",
       "      <th>3</th>\n",
       "      <td>Bulgaria</td>\n",
       "      <td>111000</td>\n",
       "      <td>5000</td>\n",
       "      <td>9.0</td>\n",
       "      <td>117</td>\n",
       "      <td>57.99</td>\n",
       "    </tr>\n",
       "    <tr>\n",
       "      <th>4</th>\n",
       "      <td>Denmark</td>\n",
       "      <td>43100</td>\n",
       "      <td>9</td>\n",
       "      <td>5.1</td>\n",
       "      <td>59</td>\n",
       "      <td>81.46</td>\n",
       "    </tr>\n",
       "    <tr>\n",
       "      <th>5</th>\n",
       "      <td>France</td>\n",
       "      <td>544000</td>\n",
       "      <td>140</td>\n",
       "      <td>56.0</td>\n",
       "      <td>774</td>\n",
       "      <td>58.47</td>\n",
       "    </tr>\n",
       "    <tr>\n",
       "      <th>6</th>\n",
       "      <td>Germany</td>\n",
       "      <td>357000</td>\n",
       "      <td>3300</td>\n",
       "      <td>78.0</td>\n",
       "      <td>901</td>\n",
       "      <td>59.81</td>\n",
       "    </tr>\n",
       "    <tr>\n",
       "      <th>7</th>\n",
       "      <td>Greece</td>\n",
       "      <td>132000</td>\n",
       "      <td>2500</td>\n",
       "      <td>10.0</td>\n",
       "      <td>106</td>\n",
       "      <td>47.31</td>\n",
       "    </tr>\n",
       "    <tr>\n",
       "      <th>8</th>\n",
       "      <td>Holland</td>\n",
       "      <td>41900</td>\n",
       "      <td>4</td>\n",
       "      <td>15.0</td>\n",
       "      <td>188</td>\n",
       "      <td>70.96</td>\n",
       "    </tr>\n",
       "    <tr>\n",
       "      <th>9</th>\n",
       "      <td>Hungary</td>\n",
       "      <td>93000</td>\n",
       "      <td>5000</td>\n",
       "      <td>11.0</td>\n",
       "      <td>124</td>\n",
       "      <td>75.86</td>\n",
       "    </tr>\n",
       "    <tr>\n",
       "      <th>10</th>\n",
       "      <td>Italy</td>\n",
       "      <td>301280</td>\n",
       "      <td>5</td>\n",
       "      <td>57.0</td>\n",
       "      <td>551</td>\n",
       "      <td>60.30</td>\n",
       "    </tr>\n",
       "    <tr>\n",
       "      <th>11</th>\n",
       "      <td>Poland</td>\n",
       "      <td>312680</td>\n",
       "      <td>30000</td>\n",
       "      <td>38.0</td>\n",
       "      <td>610</td>\n",
       "      <td>64.09</td>\n",
       "    </tr>\n",
       "    <tr>\n",
       "      <th>12</th>\n",
       "      <td>Portugal</td>\n",
       "      <td>92390</td>\n",
       "      <td>1500</td>\n",
       "      <td>10.0</td>\n",
       "      <td>120</td>\n",
       "      <td>52.51</td>\n",
       "    </tr>\n",
       "    <tr>\n",
       "      <th>13</th>\n",
       "      <td>Romania</td>\n",
       "      <td>237500</td>\n",
       "      <td>5000</td>\n",
       "      <td>23.0</td>\n",
       "      <td>367</td>\n",
       "      <td>62.49</td>\n",
       "    </tr>\n",
       "    <tr>\n",
       "      <th>14</th>\n",
       "      <td>Spain</td>\n",
       "      <td>504750</td>\n",
       "      <td>8000</td>\n",
       "      <td>39.0</td>\n",
       "      <td>439</td>\n",
       "      <td>59.57</td>\n",
       "    </tr>\n",
       "    <tr>\n",
       "      <th>15</th>\n",
       "      <td>Switzerland</td>\n",
       "      <td>41290</td>\n",
       "      <td>150</td>\n",
       "      <td>6.7</td>\n",
       "      <td>82</td>\n",
       "      <td>43.19</td>\n",
       "    </tr>\n",
       "    <tr>\n",
       "      <th>16</th>\n",
       "      <td>Turkey</td>\n",
       "      <td>779450</td>\n",
       "      <td>25000</td>\n",
       "      <td>56.0</td>\n",
       "      <td>1576</td>\n",
       "      <td>65.97</td>\n",
       "    </tr>\n",
       "  </tbody>\n",
       "</table>\n",
       "</div>"
      ],
      "text/plain": [
       "        Country    Area  Storks  Humans  BirthRate  SuitableAreaPercent\n",
       "0       Albania   28750     100     3.2         83                55.68\n",
       "1       Austria   83860     300     7.6         87                38.34\n",
       "2       Belgium   30520       1     9.9        118                65.93\n",
       "3      Bulgaria  111000    5000     9.0        117                57.99\n",
       "4       Denmark   43100       9     5.1         59                81.46\n",
       "5        France  544000     140    56.0        774                58.47\n",
       "6       Germany  357000    3300    78.0        901                59.81\n",
       "7        Greece  132000    2500    10.0        106                47.31\n",
       "8       Holland   41900       4    15.0        188                70.96\n",
       "9       Hungary   93000    5000    11.0        124                75.86\n",
       "10        Italy  301280       5    57.0        551                60.30\n",
       "11       Poland  312680   30000    38.0        610                64.09\n",
       "12     Portugal   92390    1500    10.0        120                52.51\n",
       "13      Romania  237500    5000    23.0        367                62.49\n",
       "14        Spain  504750    8000    39.0        439                59.57\n",
       "15  Switzerland   41290     150     6.7         82                43.19\n",
       "16       Turkey  779450   25000    56.0       1576                65.97"
      ]
     },
     "execution_count": 2,
     "metadata": {},
     "output_type": "execute_result"
    }
   ],
   "source": [
    "data_storks = pd.read_csv('storks.csv')\n",
    "# data_storks = data_storks.rename(columns={'Humans': 'Humans (10^6)'})\n",
    "data_storks"
   ]
  },
  {
   "cell_type": "markdown",
   "id": "7d731f31",
   "metadata": {},
   "source": [
    "## Section 2: Analysis 1 - Birth Rate\n",
    "\n",
    "The aim of this analysis is to compare two regression models to explain the variability of the number of births."
   ]
  },
  {
   "cell_type": "markdown",
   "id": "9ce5ee41",
   "metadata": {},
   "source": [
    "### Section 2.1:  Regression Model 1 \n",
    "\n",
    "Models the predictor Number of storks with the target variable birth rate"
   ]
  },
  {
   "cell_type": "code",
   "execution_count": 3,
   "id": "b9b168ae",
   "metadata": {},
   "outputs": [
    {
     "name": "stdout",
     "output_type": "stream",
     "text": [
      "The R2 coefficient of determination is 0.385\n",
      "The intercept is 225.0\n",
      "Estimated regression coefficient for Storks is 0.03\n",
      "\n",
      "Regression equation: y = 0.03x + 225\n"
     ]
    }
   ],
   "source": [
    "# Births and storks\n",
    "\n",
    "y = data_storks.BirthRate # this is the target variable; we assue just one though more are possible\n",
    "X = np.column_stack([data_storks.Storks])\n",
    "\n",
    "reg = LinearRegression().fit(X, y)\n",
    "\n",
    "print('The R2 coefficient of determination is %4.3f' % reg.score(X, y))\n",
    "print('The intercept is %4.1f' % reg.intercept_)\n",
    "beta_Storks = reg.coef_\n",
    "print('Estimated regression coefficient for Storks is %4.2f\\n' % beta_Storks)\n",
    "print('Regression equation: y = 0.03x + 225')"
   ]
  },
  {
   "cell_type": "code",
   "execution_count": 4,
   "id": "4b270c3a",
   "metadata": {},
   "outputs": [],
   "source": [
    "y_hat = reg.predict(X)"
   ]
  },
  {
   "cell_type": "code",
   "execution_count": 5,
   "id": "104e909c",
   "metadata": {},
   "outputs": [
    {
     "data": {
      "text/plain": [
       "Text(0, 0.5, 'Birth Rate')"
      ]
     },
     "execution_count": 5,
     "metadata": {},
     "output_type": "execute_result"
    },
    {
     "data": {
      "image/png": "[encoded data removed]",
      "text/plain": [
       "<Figure size 1080x720 with 1 Axes>"
      ]
     },
     "metadata": {
      "needs_background": "light"
     },
     "output_type": "display_data"
    }
   ],
   "source": [
    "# Plot outputs\n",
    "fig, a = plt.subplots(1,1,figsize=(15,10))\n",
    "a.scatter(X, y,  color='black')\n",
    "a.plot(X, y_hat, color='blue', linewidth=3)\n",
    "\n",
    "a.set_title('The number of human births with stork populations in 17 European countries.')\n",
    "a.set_xlabel('Stork Breeding Pairs')\n",
    "a.set_ylabel('Birth Rate')"
   ]
  },
  {
   "cell_type": "markdown",
   "id": "0207d91c",
   "metadata": {},
   "source": [
    "#### Explaining the plots and metrics model 1"
   ]
  },
  {
   "cell_type": "markdown",
   "id": "d6bccfcf",
   "metadata": {},
   "source": [
    "This scatter plot shows the relationship between birth rate and stork pairs. We can see from the plot that the predictor variable storks is not very good at predicting the birth rate. However we can see a positive correlation which may imply some sort of association. As we do not know of any clear confounders we can't identify if this is causation or just association.\n",
    "\n",
    "The r2 is the explained variation in our model over the total variation as a ratio. Our scatter plot shows us the data is not fitted very closely to the regression line from the visual plot. This is further backed up with a moderately low r2 of 0.385. r2 measures the correlation and goodness of fit and this isn't very high. This means the predictor and target relationship shows the model isn't great however there seems to be some sort of association. Generally a r2 of 0.4 or above is considered a good fit."
   ]
  },
  {
   "cell_type": "markdown",
   "id": "346daeea",
   "metadata": {},
   "source": [
    "### Section 2.2:  Regression Model 2 \n",
    "\n",
    "Models the predictor Humans (Population size) with the target variable birth rate"
   ]
  },
  {
   "cell_type": "code",
   "execution_count": 6,
   "id": "6ec7a6a4",
   "metadata": {},
   "outputs": [
    {
     "name": "stdout",
     "output_type": "stream",
     "text": [
      "The R2 coefficient of determination is 0.725\n",
      "The intercept is -8.4\n",
      "Estimated regression coefficient for Humans is 14.83\n",
      "\n",
      "Regression equation: y1 = 14.83x1 - 8.4\n"
     ]
    }
   ],
   "source": [
    "# Births and Humamns\n",
    "\n",
    "y1 = data_storks.BirthRate # this is the target variable; we assue just one though more are possible\n",
    "X1 = np.column_stack([data_storks.Humans])\n",
    "\n",
    "X1\n",
    "\n",
    "reg1 = LinearRegression().fit(X1, y1)\n",
    "\n",
    "print('The R2 coefficient of determination is %4.3f' % reg1.score(X1, y1))\n",
    "print('The intercept is %4.1f' % reg1.intercept_)\n",
    "beta_Humans = reg1.coef_\n",
    "print('Estimated regression coefficient for Humans is %4.2f\\n' % beta_Humans)\n",
    "print('Regression equation: y1 = 14.83x1 - 8.4')"
   ]
  },
  {
   "cell_type": "code",
   "execution_count": 7,
   "id": "ea945a51",
   "metadata": {},
   "outputs": [],
   "source": [
    "y1_hat = reg1.predict(X1)"
   ]
  },
  {
   "cell_type": "code",
   "execution_count": 8,
   "id": "0a9b6d16",
   "metadata": {},
   "outputs": [
    {
     "data": {
      "text/plain": [
       "Text(0, 0.5, 'Birth Rate')"
      ]
     },
     "execution_count": 8,
     "metadata": {},
     "output_type": "execute_result"
    },
    {
     "data": {
      "image/png": "[encoded data removed]",
      "text/plain": [
       "<Figure size 1080x720 with 1 Axes>"
      ]
     },
     "metadata": {
      "needs_background": "light"
     },
     "output_type": "display_data"
    }
   ],
   "source": [
    "# Plot outputs\n",
    "fig, a1 = plt.subplots(1,1,figsize=(15,10))\n",
    "a1.scatter(X1, y1,  color='black')\n",
    "a1.plot(X1, y1_hat, color='blue', linewidth=3)\n",
    "\n",
    "a1.set_title('The number of human births with human populations in 17 European countries.')\n",
    "a1.set_xlabel('Human')\n",
    "a1.set_ylabel('Birth Rate')"
   ]
  },
  {
   "cell_type": "markdown",
   "id": "0177dff6",
   "metadata": {},
   "source": [
    "#### Explaining the plots and metrics model 2 "
   ]
  },
  {
   "cell_type": "markdown",
   "id": "8d5ccd5f",
   "metadata": {},
   "source": [
    "This scatter plot shows the relationship between birth rate and humans. We can see from the plot that the predictor variable humans is good at predicting the birth rate. We can see a positive correlation on the visualisation of the model and a close fit of the regression line to the data which shows this is a good predictor of birth rate.\n",
    "\n",
    "This is further backed up by a high r2 of 0.725. This value means that the model has a good fit and a high correlation between variables. This model has a high amount of explained variance and will be good at predicting as we can see the actual and predicted values are not too far off. Overall from the initial comparison, we can see that model 2 is a better fit for the data than model 1. We will compare the difference in r2 to see if the difference in variability is significant or not."
   ]
  },
  {
   "cell_type": "markdown",
   "id": "4e4a5398",
   "metadata": {},
   "source": [
    "### Section 2.3: Bootstrap for the difference r2 between the models. \n",
    "\n",
    "Bootstrap for the distribution of the difference in the r2 parameter for the two models."
   ]
  },
  {
   "cell_type": "code",
   "execution_count": 9,
   "id": "39e229fd",
   "metadata": {},
   "outputs": [],
   "source": [
    "def bootstrapC(data, cols, repeats, func):\n",
    "    result = pd.DataFrame(data = dict([(c, np.empty(repeats)) for c in cols]))\n",
    "    \n",
    "    for i in range(0, repeats):\n",
    "        result.iloc[i] = func(resample(data)) # default is to resample, same size\n",
    "    return result"
   ]
  },
  {
   "cell_type": "code",
   "execution_count": 10,
   "id": "de33a92e",
   "metadata": {},
   "outputs": [
    {
     "data": {
      "text/html": [
       "<div>\n",
       "<style scoped>\n",
       "    .dataframe tbody tr th:only-of-type {\n",
       "        vertical-align: middle;\n",
       "    }\n",
       "\n",
       "    .dataframe tbody tr th {\n",
       "        vertical-align: top;\n",
       "    }\n",
       "\n",
       "    .dataframe thead th {\n",
       "        text-align: right;\n",
       "    }\n",
       "</style>\n",
       "<table border=\"1\" class=\"dataframe\">\n",
       "  <thead>\n",
       "    <tr style=\"text-align: right;\">\n",
       "      <th></th>\n",
       "      <th>Intercept</th>\n",
       "      <th>BetaStorks</th>\n",
       "      <th>Storks_R2</th>\n",
       "      <th>humans Intercept</th>\n",
       "      <th>BetaHumans</th>\n",
       "      <th>Humans_R2</th>\n",
       "    </tr>\n",
       "  </thead>\n",
       "  <tbody>\n",
       "    <tr>\n",
       "      <th>0</th>\n",
       "      <td>128.97</td>\n",
       "      <td>0.05</td>\n",
       "      <td>0.54</td>\n",
       "      <td>-61.44</td>\n",
       "      <td>19.53</td>\n",
       "      <td>0.83</td>\n",
       "    </tr>\n",
       "    <tr>\n",
       "      <th>1</th>\n",
       "      <td>179.15</td>\n",
       "      <td>0.04</td>\n",
       "      <td>0.56</td>\n",
       "      <td>-38.31</td>\n",
       "      <td>18.93</td>\n",
       "      <td>0.76</td>\n",
       "    </tr>\n",
       "    <tr>\n",
       "      <th>2</th>\n",
       "      <td>323.14</td>\n",
       "      <td>0.02</td>\n",
       "      <td>0.22</td>\n",
       "      <td>-21.90</td>\n",
       "      <td>15.29</td>\n",
       "      <td>0.71</td>\n",
       "    </tr>\n",
       "    <tr>\n",
       "      <th>3</th>\n",
       "      <td>193.80</td>\n",
       "      <td>0.05</td>\n",
       "      <td>0.51</td>\n",
       "      <td>-17.83</td>\n",
       "      <td>16.03</td>\n",
       "      <td>0.77</td>\n",
       "    </tr>\n",
       "    <tr>\n",
       "      <th>4</th>\n",
       "      <td>125.00</td>\n",
       "      <td>0.02</td>\n",
       "      <td>0.67</td>\n",
       "      <td>8.28</td>\n",
       "      <td>12.59</td>\n",
       "      <td>0.89</td>\n",
       "    </tr>\n",
       "    <tr>\n",
       "      <th>...</th>\n",
       "      <td>...</td>\n",
       "      <td>...</td>\n",
       "      <td>...</td>\n",
       "      <td>...</td>\n",
       "      <td>...</td>\n",
       "      <td>...</td>\n",
       "    </tr>\n",
       "    <tr>\n",
       "      <th>495</th>\n",
       "      <td>167.95</td>\n",
       "      <td>0.04</td>\n",
       "      <td>0.56</td>\n",
       "      <td>-26.31</td>\n",
       "      <td>18.74</td>\n",
       "      <td>0.77</td>\n",
       "    </tr>\n",
       "    <tr>\n",
       "      <th>496</th>\n",
       "      <td>379.90</td>\n",
       "      <td>0.03</td>\n",
       "      <td>0.39</td>\n",
       "      <td>-70.53</td>\n",
       "      <td>18.61</td>\n",
       "      <td>0.60</td>\n",
       "    </tr>\n",
       "    <tr>\n",
       "      <th>497</th>\n",
       "      <td>260.67</td>\n",
       "      <td>0.02</td>\n",
       "      <td>0.35</td>\n",
       "      <td>35.32</td>\n",
       "      <td>13.44</td>\n",
       "      <td>0.76</td>\n",
       "    </tr>\n",
       "    <tr>\n",
       "      <th>498</th>\n",
       "      <td>109.57</td>\n",
       "      <td>0.06</td>\n",
       "      <td>0.84</td>\n",
       "      <td>-73.77</td>\n",
       "      <td>18.75</td>\n",
       "      <td>0.66</td>\n",
       "    </tr>\n",
       "    <tr>\n",
       "      <th>499</th>\n",
       "      <td>304.48</td>\n",
       "      <td>0.02</td>\n",
       "      <td>0.34</td>\n",
       "      <td>-25.67</td>\n",
       "      <td>17.54</td>\n",
       "      <td>0.71</td>\n",
       "    </tr>\n",
       "  </tbody>\n",
       "</table>\n",
       "<p>500 rows × 6 columns</p>\n",
       "</div>"
      ],
      "text/plain": [
       "     Intercept  BetaStorks  Storks_R2  humans Intercept  BetaHumans  Humans_R2\n",
       "0       128.97        0.05       0.54            -61.44       19.53       0.83\n",
       "1       179.15        0.04       0.56            -38.31       18.93       0.76\n",
       "2       323.14        0.02       0.22            -21.90       15.29       0.71\n",
       "3       193.80        0.05       0.51            -17.83       16.03       0.77\n",
       "4       125.00        0.02       0.67              8.28       12.59       0.89\n",
       "..         ...         ...        ...               ...         ...        ...\n",
       "495     167.95        0.04       0.56            -26.31       18.74       0.77\n",
       "496     379.90        0.03       0.39            -70.53       18.61       0.60\n",
       "497     260.67        0.02       0.35             35.32       13.44       0.76\n",
       "498     109.57        0.06       0.84            -73.77       18.75       0.66\n",
       "499     304.48        0.02       0.34            -25.67       17.54       0.71\n",
       "\n",
       "[500 rows x 6 columns]"
      ]
     },
     "execution_count": 10,
     "metadata": {},
     "output_type": "execute_result"
    }
   ],
   "source": [
    "from sklearn.linear_model import LinearRegression\n",
    "from sklearn.metrics import mean_squared_error\n",
    "\n",
    "def doRegression(data_storks) :\n",
    "    y = data_storks.BirthRate # this is the target variable; we assue just one though more are possible\n",
    "    X = np.column_stack([data_storks.Storks])\n",
    "    y1 = data_storks.BirthRate # this is the target variable; we assue just one though more are possible\n",
    "    X1 = np.column_stack([data_storks.Humans])\n",
    "    reg = LinearRegression().fit(X, y)\n",
    "    reg1 = LinearRegression().fit(X1, y1)\n",
    "    beta_Storks = reg.coef_[0]\n",
    "    beta_Humans = reg1.coef_[0]\n",
    "    return [reg.intercept_, beta_Storks, reg.score(X, y), reg1.intercept_,beta_Humans,reg1.score(X1,y1)] \n",
    "\n",
    "bstrap = bootstrapC(data_storks, ['Intercept', 'BetaStorks', 'Storks_R2', 'humans Intercept', \n",
    "                                  'BetaHumans', 'Humans_R2'], 500, doRegression) \n",
    "\n",
    "bstrap.round(2)"
   ]
  },
  {
   "cell_type": "markdown",
   "id": "24964898",
   "metadata": {},
   "source": []
  },
  {
   "cell_type": "code",
   "execution_count": 11,
   "id": "96fbb1cb",
   "metadata": {},
   "outputs": [],
   "source": [
    "bstrap = bstrap.drop(['Intercept','humans Intercept'],axis=1)"
   ]
  },
  {
   "cell_type": "code",
   "execution_count": 12,
   "id": "47d9404a",
   "metadata": {},
   "outputs": [
    {
     "data": {
      "text/html": [
       "<div>\n",
       "<style scoped>\n",
       "    .dataframe tbody tr th:only-of-type {\n",
       "        vertical-align: middle;\n",
       "    }\n",
       "\n",
       "    .dataframe tbody tr th {\n",
       "        vertical-align: top;\n",
       "    }\n",
       "\n",
       "    .dataframe thead th {\n",
       "        text-align: right;\n",
       "    }\n",
       "</style>\n",
       "<table border=\"1\" class=\"dataframe\">\n",
       "  <thead>\n",
       "    <tr style=\"text-align: right;\">\n",
       "      <th></th>\n",
       "      <th>BetaStorks</th>\n",
       "      <th>Storks_R2</th>\n",
       "      <th>BetaHumans</th>\n",
       "      <th>Humans_R2</th>\n",
       "      <th>R2_Difference</th>\n",
       "    </tr>\n",
       "  </thead>\n",
       "  <tbody>\n",
       "    <tr>\n",
       "      <th>0</th>\n",
       "      <td>0.05</td>\n",
       "      <td>0.54</td>\n",
       "      <td>19.53</td>\n",
       "      <td>0.83</td>\n",
       "      <td>0.29</td>\n",
       "    </tr>\n",
       "    <tr>\n",
       "      <th>1</th>\n",
       "      <td>0.04</td>\n",
       "      <td>0.56</td>\n",
       "      <td>18.93</td>\n",
       "      <td>0.76</td>\n",
       "      <td>0.20</td>\n",
       "    </tr>\n",
       "    <tr>\n",
       "      <th>2</th>\n",
       "      <td>0.02</td>\n",
       "      <td>0.22</td>\n",
       "      <td>15.29</td>\n",
       "      <td>0.71</td>\n",
       "      <td>0.49</td>\n",
       "    </tr>\n",
       "    <tr>\n",
       "      <th>3</th>\n",
       "      <td>0.05</td>\n",
       "      <td>0.51</td>\n",
       "      <td>16.03</td>\n",
       "      <td>0.77</td>\n",
       "      <td>0.26</td>\n",
       "    </tr>\n",
       "    <tr>\n",
       "      <th>4</th>\n",
       "      <td>0.02</td>\n",
       "      <td>0.67</td>\n",
       "      <td>12.59</td>\n",
       "      <td>0.89</td>\n",
       "      <td>0.22</td>\n",
       "    </tr>\n",
       "    <tr>\n",
       "      <th>...</th>\n",
       "      <td>...</td>\n",
       "      <td>...</td>\n",
       "      <td>...</td>\n",
       "      <td>...</td>\n",
       "      <td>...</td>\n",
       "    </tr>\n",
       "    <tr>\n",
       "      <th>495</th>\n",
       "      <td>0.04</td>\n",
       "      <td>0.56</td>\n",
       "      <td>18.74</td>\n",
       "      <td>0.77</td>\n",
       "      <td>0.21</td>\n",
       "    </tr>\n",
       "    <tr>\n",
       "      <th>496</th>\n",
       "      <td>0.03</td>\n",
       "      <td>0.39</td>\n",
       "      <td>18.61</td>\n",
       "      <td>0.60</td>\n",
       "      <td>0.21</td>\n",
       "    </tr>\n",
       "    <tr>\n",
       "      <th>497</th>\n",
       "      <td>0.02</td>\n",
       "      <td>0.35</td>\n",
       "      <td>13.44</td>\n",
       "      <td>0.76</td>\n",
       "      <td>0.40</td>\n",
       "    </tr>\n",
       "    <tr>\n",
       "      <th>498</th>\n",
       "      <td>0.06</td>\n",
       "      <td>0.84</td>\n",
       "      <td>18.75</td>\n",
       "      <td>0.66</td>\n",
       "      <td>-0.18</td>\n",
       "    </tr>\n",
       "    <tr>\n",
       "      <th>499</th>\n",
       "      <td>0.02</td>\n",
       "      <td>0.34</td>\n",
       "      <td>17.54</td>\n",
       "      <td>0.71</td>\n",
       "      <td>0.37</td>\n",
       "    </tr>\n",
       "  </tbody>\n",
       "</table>\n",
       "<p>500 rows × 5 columns</p>\n",
       "</div>"
      ],
      "text/plain": [
       "     BetaStorks  Storks_R2  BetaHumans  Humans_R2  R2_Difference\n",
       "0          0.05       0.54       19.53       0.83           0.29\n",
       "1          0.04       0.56       18.93       0.76           0.20\n",
       "2          0.02       0.22       15.29       0.71           0.49\n",
       "3          0.05       0.51       16.03       0.77           0.26\n",
       "4          0.02       0.67       12.59       0.89           0.22\n",
       "..          ...        ...         ...        ...            ...\n",
       "495        0.04       0.56       18.74       0.77           0.21\n",
       "496        0.03       0.39       18.61       0.60           0.21\n",
       "497        0.02       0.35       13.44       0.76           0.40\n",
       "498        0.06       0.84       18.75       0.66          -0.18\n",
       "499        0.02       0.34       17.54       0.71           0.37\n",
       "\n",
       "[500 rows x 5 columns]"
      ]
     },
     "execution_count": 12,
     "metadata": {},
     "output_type": "execute_result"
    }
   ],
   "source": [
    "bstrap = bstrap.assign(R2_Difference = bstrap.Humans_R2 - bstrap.Storks_R2)\n",
    "bstrap.round(2)"
   ]
  },
  {
   "cell_type": "code",
   "execution_count": 13,
   "id": "76938457",
   "metadata": {},
   "outputs": [
    {
     "data": {
      "text/plain": [
       "<AxesSubplot:>"
      ]
     },
     "execution_count": 13,
     "metadata": {},
     "output_type": "execute_result"
    },
    {
     "data": {
      "image/png": "[encoded data removed]",
      "text/plain": [
       "<Figure size 720x360 with 1 Axes>"
      ]
     },
     "metadata": {
      "needs_background": "light"
     },
     "output_type": "display_data"
    }
   ],
   "source": [
    "bstrap['R2_Difference'].hist(figsize=(10,5))"
   ]
  },
  {
   "cell_type": "markdown",
   "id": "29f373fb",
   "metadata": {},
   "source": [
    "#### Estimate appropriate confidence intervals for the difference in the r2 values. "
   ]
  },
  {
   "cell_type": "code",
   "execution_count": 14,
   "id": "42abaa30",
   "metadata": {},
   "outputs": [
    {
     "name": "stdout",
     "output_type": "stream",
     "text": [
      "The r2 difference is 0.34 \n",
      "\n",
      "The 90% CI for the r2 difference is -0.078 to 0.931 \n",
      "\n",
      "The 99% CI for the r2 difference is -0.157 to 0.978\n"
     ]
    }
   ],
   "source": [
    "print('The r2 difference is',(reg1.score(X1, y1) - reg.score(X, y)).round(3),'\\n')\n",
    "\n",
    "print('The 90%% CI for the r2 difference is %4.3f to %4.3f' % \n",
    "      (bstrap.R2_Difference.quantile(0.05), bstrap.R2_Difference.quantile(0.95)),'\\n')\n",
    "\n",
    "print('The 99%% CI for the r2 difference is %4.3f to %4.3f' % \n",
    "      (bstrap.R2_Difference.quantile(0.005), bstrap.R2_Difference.quantile(0.995)))"
   ]
  },
  {
   "cell_type": "markdown",
   "id": "4cca2d7a",
   "metadata": {},
   "source": [
    "#### Explain whether we can be confident that one of the models explains more of the variability in the number of births than the other model. "
   ]
  },
  {
   "cell_type": "markdown",
   "id": "335dbe8c",
   "metadata": {},
   "source": [
    "The parameter we are testing is the r2. The r2 is responsible for telling us how much variance is explained by our model. We can compare the goodness of fit for our models via the r2 difference of the two models, to test if one explains more variability than the other on our target variable. The model with the higher r2 should be a better fit and have a stronger correlation with the dependent variable. Although one model may have a higher r2 than the other, we need to confirm whether this is statistically significant because this impacts whether we take the difference as meaningful.\n",
    "\n",
    "The first step is to set our null hypothesis which is: one of the models explains more variability than the other model in the number of births. The difference in r2 between the two models (our parameter) would have to be impressive enough using the confidence intervals as a reference. If it is indeed impressive than we deem it to be statistically significant and we conclude that one model does not explain more of the variability in the number of births than the other model. If our parameter value lies in the CI, then we accept the null hypothesis.\n",
    "\n",
    "Confidence intervals measure the margin of statistical error for our parameter. At the 99% confidence interval, we are sure that if we repeated the trial many times, the true value of our r2 difference would lie in this range 99% of the time. In only 1% of retrials, the true r2 value would not be in the population. This means our true value r2 of 0.34 would only be impressive (outside of our CI range) in 1% of cases. Although this shows high confidence and low error, there is a trade off. At the 99% level the width of the CI may be too large which means it can be seen as imprecise. At 90% confidence the width is smaller but we are less confident, however 90% is a high level of confidence.\n",
    "\n",
    "Having zero in our CI range means we can not be sure whether there is an effect. There is a reasonable chance that the \n",
    "true value could be 0 and therefore there wouldn't be a difference and no model would be better than the other. We can only be truly confident one models r2 is better than the others if 0 doesn't lie in our range of CI. for the 99% and 90% CI this is the case.\n",
    "\n",
    "In conclusion with the information available, we can not be confident that one of our models does explain more variability in the number of births than the other model at the 99% and 90% confidence interval. "
   ]
  },
  {
   "cell_type": "markdown",
   "id": "3102bc86",
   "metadata": {},
   "source": [
    "## Section 3: Analysis 2 - Number Of Storks\n",
    "\n",
    "The aim of this analysis is to compare the performance of two regression models to predict the number of storks"
   ]
  },
  {
   "cell_type": "markdown",
   "id": "bb253d5a",
   "metadata": {},
   "source": [
    "### Section 3.1: Regression Model 1 \n",
    "\n",
    "Models the predictor Land Area with the target variable Storks"
   ]
  },
  {
   "cell_type": "code",
   "execution_count": 15,
   "id": "4899f7a8",
   "metadata": {},
   "outputs": [
    {
     "name": "stdout",
     "output_type": "stream",
     "text": [
      "The R2 coefficient of determination is 0.336 \n",
      "\n",
      "The intercept is -60.7 \n",
      "\n",
      "Estimated regression coefficient for Land Area is 0.02\n",
      "\n",
      "Regression equation: y2 = 0.02x1 - 60.7\n"
     ]
    }
   ],
   "source": [
    "# Storks and Land\n",
    "\n",
    "y2 = data_storks.Storks # this is the target variable; we assue just one though more are possible\n",
    "X2 = np.column_stack([data_storks.Area])\n",
    "\n",
    "reg2 = LinearRegression().fit(X2, y2)\n",
    "\n",
    "print('The R2 coefficient of determination is %4.3f' % reg2.score(X2, y2),'\\n')\n",
    "print('The intercept is %4.1f' % reg2.intercept_,'\\n')\n",
    "beta_Area = reg2.coef_\n",
    "print('Estimated regression coefficient for Land Area is %4.2f\\n' % beta_Area)\n",
    "print('Regression equation: y2 = 0.02x1 - 60.7')"
   ]
  },
  {
   "cell_type": "code",
   "execution_count": 16,
   "id": "f6fcf0f9",
   "metadata": {},
   "outputs": [
    {
     "name": "stdout",
     "output_type": "stream",
     "text": [
      "Root of the mean squared error: 6984.77\n"
     ]
    }
   ],
   "source": [
    "y2_hat = reg2.predict(X2)\n",
    "\n",
    "# The mean squared error\n",
    "print('Root of the mean squared error: %.2f'% mean_squared_error(y2, y2_hat, squared=False))"
   ]
  },
  {
   "cell_type": "code",
   "execution_count": 17,
   "id": "a8a60439",
   "metadata": {},
   "outputs": [
    {
     "data": {
      "text/plain": [
       "Text(0, 0.5, 'Actual Value')"
      ]
     },
     "execution_count": 17,
     "metadata": {},
     "output_type": "execute_result"
    },
    {
     "data": {
      "image/png": "[encoded data removed]",
      "text/plain": [
       "<Figure size 1080x720 with 1 Axes>"
      ]
     },
     "metadata": {
      "needs_background": "light"
     },
     "output_type": "display_data"
    }
   ],
   "source": [
    "# Plot outputs\n",
    "fig, a2 = plt.subplots(1,1,figsize=(15,10))\n",
    "a2.scatter(y2_hat, y2,  color='black')\n",
    "a2.plot(y2_hat, y2_hat, color='blue', linewidth=3)\n",
    "\n",
    "a2.set_title('Actual and Predicted',fontsize=16)\n",
    "a2.set_xlabel('Predicted Value')\n",
    "a2.set_ylabel('Actual Value')"
   ]
  },
  {
   "cell_type": "markdown",
   "id": "9de171ec",
   "metadata": {},
   "source": [
    "#### Explaining the plots and metrics model 1"
   ]
  },
  {
   "cell_type": "markdown",
   "id": "89a605c4",
   "metadata": {},
   "source": [
    "This scatter plot shows the predicted and actual values between storks and Land area. We can see from the plot that the predictor variable Land area looks okay at predicting the number stork pairs but not great. We can see a positive correlation on the visualisation with some outliers which largely impact the accuracy of the model most likely.\n",
    "\n",
    "The RMSE is a value of 6984 which is all relative to the units we are using, however we can see quite large errors between some actual and predicted values which contribute to the relatively high RMSE. We can say from the initial plots and metrics that land area is an okay fit or moderately bad fit and the r2 of 0.336 backs this up. we look for an r2 of above 0.4 to say it is a decent fit but the outliers seem to be an issue in this model."
   ]
  },
  {
   "cell_type": "markdown",
   "id": "b8df3138",
   "metadata": {},
   "source": [
    "### Section 3.2: Regression Model 2 \n",
    "\n",
    "Models the predictors population density and suitable area percentage with the target variable Storks"
   ]
  },
  {
   "cell_type": "code",
   "execution_count": 18,
   "id": "dfd83ad0",
   "metadata": {},
   "outputs": [
    {
     "data": {
      "text/html": [
       "<div>\n",
       "<style scoped>\n",
       "    .dataframe tbody tr th:only-of-type {\n",
       "        vertical-align: middle;\n",
       "    }\n",
       "\n",
       "    .dataframe tbody tr th {\n",
       "        vertical-align: top;\n",
       "    }\n",
       "\n",
       "    .dataframe thead th {\n",
       "        text-align: right;\n",
       "    }\n",
       "</style>\n",
       "<table border=\"1\" class=\"dataframe\">\n",
       "  <thead>\n",
       "    <tr style=\"text-align: right;\">\n",
       "      <th></th>\n",
       "      <th>Country</th>\n",
       "      <th>Area</th>\n",
       "      <th>Storks</th>\n",
       "      <th>Humans</th>\n",
       "      <th>BirthRate</th>\n",
       "      <th>SuitableAreaPercent</th>\n",
       "      <th>PopulationDensity</th>\n",
       "      <th>SuitableArea</th>\n",
       "    </tr>\n",
       "  </thead>\n",
       "  <tbody>\n",
       "    <tr>\n",
       "      <th>0</th>\n",
       "      <td>Albania</td>\n",
       "      <td>28750</td>\n",
       "      <td>100</td>\n",
       "      <td>3.2</td>\n",
       "      <td>83</td>\n",
       "      <td>55.68</td>\n",
       "      <td>111.30</td>\n",
       "      <td>16008.00</td>\n",
       "    </tr>\n",
       "    <tr>\n",
       "      <th>1</th>\n",
       "      <td>Austria</td>\n",
       "      <td>83860</td>\n",
       "      <td>300</td>\n",
       "      <td>7.6</td>\n",
       "      <td>87</td>\n",
       "      <td>38.34</td>\n",
       "      <td>90.63</td>\n",
       "      <td>32151.92</td>\n",
       "    </tr>\n",
       "    <tr>\n",
       "      <th>2</th>\n",
       "      <td>Belgium</td>\n",
       "      <td>30520</td>\n",
       "      <td>1</td>\n",
       "      <td>9.9</td>\n",
       "      <td>118</td>\n",
       "      <td>65.93</td>\n",
       "      <td>324.38</td>\n",
       "      <td>20121.84</td>\n",
       "    </tr>\n",
       "    <tr>\n",
       "      <th>3</th>\n",
       "      <td>Bulgaria</td>\n",
       "      <td>111000</td>\n",
       "      <td>5000</td>\n",
       "      <td>9.0</td>\n",
       "      <td>117</td>\n",
       "      <td>57.99</td>\n",
       "      <td>81.08</td>\n",
       "      <td>64368.90</td>\n",
       "    </tr>\n",
       "    <tr>\n",
       "      <th>4</th>\n",
       "      <td>Denmark</td>\n",
       "      <td>43100</td>\n",
       "      <td>9</td>\n",
       "      <td>5.1</td>\n",
       "      <td>59</td>\n",
       "      <td>81.46</td>\n",
       "      <td>118.33</td>\n",
       "      <td>35109.26</td>\n",
       "    </tr>\n",
       "    <tr>\n",
       "      <th>5</th>\n",
       "      <td>France</td>\n",
       "      <td>544000</td>\n",
       "      <td>140</td>\n",
       "      <td>56.0</td>\n",
       "      <td>774</td>\n",
       "      <td>58.47</td>\n",
       "      <td>102.94</td>\n",
       "      <td>318076.80</td>\n",
       "    </tr>\n",
       "    <tr>\n",
       "      <th>6</th>\n",
       "      <td>Germany</td>\n",
       "      <td>357000</td>\n",
       "      <td>3300</td>\n",
       "      <td>78.0</td>\n",
       "      <td>901</td>\n",
       "      <td>59.81</td>\n",
       "      <td>218.49</td>\n",
       "      <td>213521.70</td>\n",
       "    </tr>\n",
       "    <tr>\n",
       "      <th>7</th>\n",
       "      <td>Greece</td>\n",
       "      <td>132000</td>\n",
       "      <td>2500</td>\n",
       "      <td>10.0</td>\n",
       "      <td>106</td>\n",
       "      <td>47.31</td>\n",
       "      <td>75.76</td>\n",
       "      <td>62449.20</td>\n",
       "    </tr>\n",
       "    <tr>\n",
       "      <th>8</th>\n",
       "      <td>Holland</td>\n",
       "      <td>41900</td>\n",
       "      <td>4</td>\n",
       "      <td>15.0</td>\n",
       "      <td>188</td>\n",
       "      <td>70.96</td>\n",
       "      <td>358.00</td>\n",
       "      <td>29732.24</td>\n",
       "    </tr>\n",
       "    <tr>\n",
       "      <th>9</th>\n",
       "      <td>Hungary</td>\n",
       "      <td>93000</td>\n",
       "      <td>5000</td>\n",
       "      <td>11.0</td>\n",
       "      <td>124</td>\n",
       "      <td>75.86</td>\n",
       "      <td>118.28</td>\n",
       "      <td>70549.80</td>\n",
       "    </tr>\n",
       "    <tr>\n",
       "      <th>10</th>\n",
       "      <td>Italy</td>\n",
       "      <td>301280</td>\n",
       "      <td>5</td>\n",
       "      <td>57.0</td>\n",
       "      <td>551</td>\n",
       "      <td>60.30</td>\n",
       "      <td>189.19</td>\n",
       "      <td>181671.84</td>\n",
       "    </tr>\n",
       "    <tr>\n",
       "      <th>11</th>\n",
       "      <td>Poland</td>\n",
       "      <td>312680</td>\n",
       "      <td>30000</td>\n",
       "      <td>38.0</td>\n",
       "      <td>610</td>\n",
       "      <td>64.09</td>\n",
       "      <td>121.53</td>\n",
       "      <td>200396.61</td>\n",
       "    </tr>\n",
       "    <tr>\n",
       "      <th>12</th>\n",
       "      <td>Portugal</td>\n",
       "      <td>92390</td>\n",
       "      <td>1500</td>\n",
       "      <td>10.0</td>\n",
       "      <td>120</td>\n",
       "      <td>52.51</td>\n",
       "      <td>108.24</td>\n",
       "      <td>48513.99</td>\n",
       "    </tr>\n",
       "    <tr>\n",
       "      <th>13</th>\n",
       "      <td>Romania</td>\n",
       "      <td>237500</td>\n",
       "      <td>5000</td>\n",
       "      <td>23.0</td>\n",
       "      <td>367</td>\n",
       "      <td>62.49</td>\n",
       "      <td>96.84</td>\n",
       "      <td>148413.75</td>\n",
       "    </tr>\n",
       "    <tr>\n",
       "      <th>14</th>\n",
       "      <td>Spain</td>\n",
       "      <td>504750</td>\n",
       "      <td>8000</td>\n",
       "      <td>39.0</td>\n",
       "      <td>439</td>\n",
       "      <td>59.57</td>\n",
       "      <td>77.27</td>\n",
       "      <td>300679.58</td>\n",
       "    </tr>\n",
       "    <tr>\n",
       "      <th>15</th>\n",
       "      <td>Switzerland</td>\n",
       "      <td>41290</td>\n",
       "      <td>150</td>\n",
       "      <td>6.7</td>\n",
       "      <td>82</td>\n",
       "      <td>43.19</td>\n",
       "      <td>162.27</td>\n",
       "      <td>17833.15</td>\n",
       "    </tr>\n",
       "    <tr>\n",
       "      <th>16</th>\n",
       "      <td>Turkey</td>\n",
       "      <td>779450</td>\n",
       "      <td>25000</td>\n",
       "      <td>56.0</td>\n",
       "      <td>1576</td>\n",
       "      <td>65.97</td>\n",
       "      <td>71.85</td>\n",
       "      <td>514203.16</td>\n",
       "    </tr>\n",
       "  </tbody>\n",
       "</table>\n",
       "</div>"
      ],
      "text/plain": [
       "        Country    Area  Storks  Humans  BirthRate  SuitableAreaPercent  \\\n",
       "0       Albania   28750     100     3.2         83                55.68   \n",
       "1       Austria   83860     300     7.6         87                38.34   \n",
       "2       Belgium   30520       1     9.9        118                65.93   \n",
       "3      Bulgaria  111000    5000     9.0        117                57.99   \n",
       "4       Denmark   43100       9     5.1         59                81.46   \n",
       "5        France  544000     140    56.0        774                58.47   \n",
       "6       Germany  357000    3300    78.0        901                59.81   \n",
       "7        Greece  132000    2500    10.0        106                47.31   \n",
       "8       Holland   41900       4    15.0        188                70.96   \n",
       "9       Hungary   93000    5000    11.0        124                75.86   \n",
       "10        Italy  301280       5    57.0        551                60.30   \n",
       "11       Poland  312680   30000    38.0        610                64.09   \n",
       "12     Portugal   92390    1500    10.0        120                52.51   \n",
       "13      Romania  237500    5000    23.0        367                62.49   \n",
       "14        Spain  504750    8000    39.0        439                59.57   \n",
       "15  Switzerland   41290     150     6.7         82                43.19   \n",
       "16       Turkey  779450   25000    56.0       1576                65.97   \n",
       "\n",
       "    PopulationDensity  SuitableArea  \n",
       "0              111.30      16008.00  \n",
       "1               90.63      32151.92  \n",
       "2              324.38      20121.84  \n",
       "3               81.08      64368.90  \n",
       "4              118.33      35109.26  \n",
       "5              102.94     318076.80  \n",
       "6              218.49     213521.70  \n",
       "7               75.76      62449.20  \n",
       "8              358.00      29732.24  \n",
       "9              118.28      70549.80  \n",
       "10             189.19     181671.84  \n",
       "11             121.53     200396.61  \n",
       "12             108.24      48513.99  \n",
       "13              96.84     148413.75  \n",
       "14              77.27     300679.58  \n",
       "15             162.27      17833.15  \n",
       "16              71.85     514203.16  "
      ]
     },
     "execution_count": 18,
     "metadata": {},
     "output_type": "execute_result"
    }
   ],
   "source": [
    "def calcProportion(data_storks):\n",
    "    humans = ((data_storks.Humans)*10**6)\n",
    "    return humans / data_storks.Area\n",
    "\n",
    "data_storks = data_storks.assign(PopulationDensity = data_storks.apply(calcProportion, axis=1)) \n",
    "\n",
    "data_storks['SuitableArea'] = ((data_storks.SuitableAreaPercent / 100) * (data_storks.Area))\n",
    "data_storks.round(2)"
   ]
  },
  {
   "cell_type": "code",
   "execution_count": 19,
   "id": "9a0627b6",
   "metadata": {},
   "outputs": [
    {
     "name": "stdout",
     "output_type": "stream",
     "text": [
      "The R2 coefficient of determination is 0.393 \n",
      "\n",
      "The intercept is 1881.4\n",
      "\n",
      "Estimated regression coefficient for Population Density is -12.13\n",
      "\n",
      "Estimated regression coefficient for Suitable Area is 0.037\n",
      "\n",
      "Regression equation: y3 = -12.13x1 + 0.037x2 + 1881.4\n"
     ]
    }
   ],
   "source": [
    "# Storks, population density, area of suitable land\n",
    "\n",
    "y3 = data_storks.Storks # this is the target variable; we assue just one though more are possible\n",
    "X3 = np.column_stack((data_storks.PopulationDensity, data_storks.SuitableArea))\n",
    "\n",
    "reg3 = LinearRegression().fit(X3, y3)\n",
    "\n",
    "print('The R2 coefficient of determination is %4.3f' % reg3.score(X3, y3),'\\n')\n",
    "print('The intercept is %4.1f\\n' % reg3.intercept_)\n",
    "beta_PopulationDensity, beta_SuitableArea = reg3.coef_\n",
    "print('Estimated regression coefficient for Population Density is %4.2f\\n' % beta_PopulationDensity)\n",
    "print('Estimated regression coefficient for Suitable Area is %4.3f\\n' % beta_SuitableArea)\n",
    "\n",
    "print('Regression equation: y3 = -12.13x1 + 0.037x2 + 1881.4')"
   ]
  },
  {
   "cell_type": "code",
   "execution_count": 20,
   "id": "bf4ecb21",
   "metadata": {},
   "outputs": [
    {
     "name": "stdout",
     "output_type": "stream",
     "text": [
      "Root of the mean squared error: 6677.03\n"
     ]
    }
   ],
   "source": [
    "y3_hat = reg3.predict(X3)\n",
    "\n",
    "# The mean squared error\n",
    "print('Root of the mean squared error: %.2f'% mean_squared_error(y3, y3_hat, squared=False))"
   ]
  },
  {
   "cell_type": "code",
   "execution_count": 21,
   "id": "5ad91766",
   "metadata": {},
   "outputs": [
    {
     "data": {
      "text/plain": [
       "Text(0, 0.5, 'Actual Value')"
      ]
     },
     "execution_count": 21,
     "metadata": {},
     "output_type": "execute_result"
    },
    {
     "data": {
      "image/png": "[encoded data removed]",
      "text/plain": [
       "<Figure size 1080x720 with 1 Axes>"
      ]
     },
     "metadata": {
      "needs_background": "light"
     },
     "output_type": "display_data"
    }
   ],
   "source": [
    "# Plot outputs\n",
    "fig, a3 = plt.subplots(1,1,figsize=(15,10))\n",
    "a3.scatter(y3_hat, y3,  color='black')\n",
    "a3.plot(y3_hat, y3_hat, color='blue', linewidth=3)\n",
    "\n",
    "a3.set_title('Actual and Predicted Storks',fontsize=16)\n",
    "a3.set_xlabel('Predicted Value')\n",
    "a3.set_ylabel('Actual Value')"
   ]
  },
  {
   "cell_type": "markdown",
   "id": "a7dbc946",
   "metadata": {},
   "source": [
    "#### Explaining the plots and metrics model 2"
   ]
  },
  {
   "cell_type": "markdown",
   "id": "9eaf61e0",
   "metadata": {},
   "source": [
    "This scatter plot shows the predicted and actual values between storks and the two predictors suitable land area and population density. We can see a positive correlation on the visualisation with some outliers which largely impact the accuracy of the model most likely. The predictors don't seem like they are very good at predicting storks but the model seems better than model 1 which is expected with more predictors.\n",
    "\n",
    "This model is not much better fit than the previous model with an r2 of 0.393 which is slightly higher but still under our threshold value of 0.4 as a good fit for the data. We can say the model 2 has a slight positive correlation but it is not a good fit for the data and this is backed up by the high RMSE of 6677 which is also slightly lower than model 1. From these initial results we would expect model 2 to perform better and predict better than model 1, however the difference may not be significant enough to conclude this."
   ]
  },
  {
   "cell_type": "markdown",
   "id": "117eeac0",
   "metadata": {},
   "source": [
    "### Section 3.3: : Bootstrap for the difference RMSE between the models. \n",
    "\n",
    "Use the bootstrap technique to estimate the difference in the root mean squared error (RMSE) between the predicted and actual values for the two models "
   ]
  },
  {
   "cell_type": "code",
   "execution_count": 22,
   "id": "65280df6",
   "metadata": {},
   "outputs": [
    {
     "name": "stdout",
     "output_type": "stream",
     "text": [
      "RMSE_model_1 = 6984.766863832696 \n",
      "\n",
      "RMSE_model_2 = 6677.0286930693765 \n",
      "\n",
      "RMSE_difference = 307.73817076331943\n"
     ]
    }
   ],
   "source": [
    "print('RMSE_model_1 =', mean_squared_error(y2, y2_hat, squared=False),'\\n')\n",
    "print('RMSE_model_2 =', mean_squared_error(y3, y3_hat, squared=False),'\\n')\n",
    "\n",
    "print('RMSE_difference =', (mean_squared_error(y2, y2_hat, squared=False))- \n",
    "      mean_squared_error(y3, y3_hat, squared=False,))"
   ]
  },
  {
   "cell_type": "code",
   "execution_count": 23,
   "id": "6a4b2cfe",
   "metadata": {},
   "outputs": [
    {
     "data": {
      "text/html": [
       "<div>\n",
       "<style scoped>\n",
       "    .dataframe tbody tr th:only-of-type {\n",
       "        vertical-align: middle;\n",
       "    }\n",
       "\n",
       "    .dataframe tbody tr th {\n",
       "        vertical-align: top;\n",
       "    }\n",
       "\n",
       "    .dataframe thead th {\n",
       "        text-align: right;\n",
       "    }\n",
       "</style>\n",
       "<table border=\"1\" class=\"dataframe\">\n",
       "  <thead>\n",
       "    <tr style=\"text-align: right;\">\n",
       "      <th></th>\n",
       "      <th>beta_Area</th>\n",
       "      <th>beta_PopulationDensity</th>\n",
       "      <th>beta_SuitableArea</th>\n",
       "      <th>RMSE_Model_1</th>\n",
       "      <th>RMSE_Model_2</th>\n",
       "    </tr>\n",
       "  </thead>\n",
       "  <tbody>\n",
       "    <tr>\n",
       "      <th>0</th>\n",
       "      <td>0.007490</td>\n",
       "      <td>-37.082018</td>\n",
       "      <td>0.024466</td>\n",
       "      <td>8598.670423</td>\n",
       "      <td>8743.667403</td>\n",
       "    </tr>\n",
       "    <tr>\n",
       "      <th>1</th>\n",
       "      <td>0.027339</td>\n",
       "      <td>-5.531803</td>\n",
       "      <td>0.041257</td>\n",
       "      <td>8246.734063</td>\n",
       "      <td>8496.470994</td>\n",
       "    </tr>\n",
       "    <tr>\n",
       "      <th>2</th>\n",
       "      <td>0.022455</td>\n",
       "      <td>-9.097945</td>\n",
       "      <td>0.034342</td>\n",
       "      <td>8354.929447</td>\n",
       "      <td>8901.691564</td>\n",
       "    </tr>\n",
       "    <tr>\n",
       "      <th>3</th>\n",
       "      <td>0.001663</td>\n",
       "      <td>-7.933872</td>\n",
       "      <td>0.001537</td>\n",
       "      <td>6890.282159</td>\n",
       "      <td>7090.886688</td>\n",
       "    </tr>\n",
       "    <tr>\n",
       "      <th>4</th>\n",
       "      <td>0.023379</td>\n",
       "      <td>-10.885513</td>\n",
       "      <td>0.036063</td>\n",
       "      <td>7328.269341</td>\n",
       "      <td>7502.806198</td>\n",
       "    </tr>\n",
       "    <tr>\n",
       "      <th>...</th>\n",
       "      <td>...</td>\n",
       "      <td>...</td>\n",
       "      <td>...</td>\n",
       "      <td>...</td>\n",
       "      <td>...</td>\n",
       "    </tr>\n",
       "    <tr>\n",
       "      <th>495</th>\n",
       "      <td>0.019757</td>\n",
       "      <td>-12.293750</td>\n",
       "      <td>0.030160</td>\n",
       "      <td>7643.472716</td>\n",
       "      <td>7834.149006</td>\n",
       "    </tr>\n",
       "    <tr>\n",
       "      <th>496</th>\n",
       "      <td>0.030170</td>\n",
       "      <td>-8.192148</td>\n",
       "      <td>0.044411</td>\n",
       "      <td>9162.312507</td>\n",
       "      <td>9290.073333</td>\n",
       "    </tr>\n",
       "    <tr>\n",
       "      <th>497</th>\n",
       "      <td>0.015207</td>\n",
       "      <td>-11.437908</td>\n",
       "      <td>0.025126</td>\n",
       "      <td>8964.688443</td>\n",
       "      <td>9325.894636</td>\n",
       "    </tr>\n",
       "    <tr>\n",
       "      <th>498</th>\n",
       "      <td>0.021009</td>\n",
       "      <td>-14.098745</td>\n",
       "      <td>0.032693</td>\n",
       "      <td>10295.807835</td>\n",
       "      <td>10606.686007</td>\n",
       "    </tr>\n",
       "    <tr>\n",
       "      <th>499</th>\n",
       "      <td>0.030999</td>\n",
       "      <td>-14.530632</td>\n",
       "      <td>0.045240</td>\n",
       "      <td>10502.719576</td>\n",
       "      <td>10681.349294</td>\n",
       "    </tr>\n",
       "  </tbody>\n",
       "</table>\n",
       "<p>500 rows × 5 columns</p>\n",
       "</div>"
      ],
      "text/plain": [
       "     beta_Area  beta_PopulationDensity  beta_SuitableArea  RMSE_Model_1  \\\n",
       "0     0.007490              -37.082018           0.024466   8598.670423   \n",
       "1     0.027339               -5.531803           0.041257   8246.734063   \n",
       "2     0.022455               -9.097945           0.034342   8354.929447   \n",
       "3     0.001663               -7.933872           0.001537   6890.282159   \n",
       "4     0.023379              -10.885513           0.036063   7328.269341   \n",
       "..         ...                     ...                ...           ...   \n",
       "495   0.019757              -12.293750           0.030160   7643.472716   \n",
       "496   0.030170               -8.192148           0.044411   9162.312507   \n",
       "497   0.015207              -11.437908           0.025126   8964.688443   \n",
       "498   0.021009              -14.098745           0.032693  10295.807835   \n",
       "499   0.030999              -14.530632           0.045240  10502.719576   \n",
       "\n",
       "     RMSE_Model_2  \n",
       "0     8743.667403  \n",
       "1     8496.470994  \n",
       "2     8901.691564  \n",
       "3     7090.886688  \n",
       "4     7502.806198  \n",
       "..            ...  \n",
       "495   7834.149006  \n",
       "496   9290.073333  \n",
       "497   9325.894636  \n",
       "498  10606.686007  \n",
       "499  10681.349294  \n",
       "\n",
       "[500 rows x 5 columns]"
      ]
     },
     "execution_count": 23,
     "metadata": {},
     "output_type": "execute_result"
    }
   ],
   "source": [
    "def doRegression(data_storks) :\n",
    "    y2 = data_storks.Storks # this is the target variable; we assue just one though more are possible\n",
    "    X2 = np.column_stack([data_storks.Area])\n",
    "    y3 = data_storks.Storks # this is the target variable; we assue just one though more are possible\n",
    "    X3 = np.column_stack((data_storks.PopulationDensity, data_storks.SuitableArea))\n",
    "    reg2 = LinearRegression().fit(X2, y2)\n",
    "    reg3 = LinearRegression().fit(X3, y3)\n",
    "    beta_Area = reg2.coef_[0]\n",
    "    beta_PopulationDensity, beta_SuitableArea = reg3.coef_\n",
    "    return [beta_Area,beta_PopulationDensity,beta_SuitableArea,mean_squared_error(y2, y2_hat, squared=False),\n",
    "            mean_squared_error(y3, y3_hat, squared=False)] \n",
    "\n",
    "bstrap2 = bootstrapC(data_storks, ['beta_Area','beta_PopulationDensity','beta_SuitableArea',\n",
    "                                   'RMSE_Model_1','RMSE_Model_2'], 500, doRegression) \n",
    "\n",
    "bstrap2"
   ]
  },
  {
   "cell_type": "code",
   "execution_count": 24,
   "id": "f75d5801",
   "metadata": {},
   "outputs": [
    {
     "data": {
      "text/html": [
       "<div>\n",
       "<style scoped>\n",
       "    .dataframe tbody tr th:only-of-type {\n",
       "        vertical-align: middle;\n",
       "    }\n",
       "\n",
       "    .dataframe tbody tr th {\n",
       "        vertical-align: top;\n",
       "    }\n",
       "\n",
       "    .dataframe thead th {\n",
       "        text-align: right;\n",
       "    }\n",
       "</style>\n",
       "<table border=\"1\" class=\"dataframe\">\n",
       "  <thead>\n",
       "    <tr style=\"text-align: right;\">\n",
       "      <th></th>\n",
       "      <th>beta_Area</th>\n",
       "      <th>beta_PopulationDensity</th>\n",
       "      <th>beta_SuitableArea</th>\n",
       "      <th>RMSE_Model_1</th>\n",
       "      <th>RMSE_Model_2</th>\n",
       "      <th>RMSE_Difference</th>\n",
       "    </tr>\n",
       "  </thead>\n",
       "  <tbody>\n",
       "    <tr>\n",
       "      <th>0</th>\n",
       "      <td>0.01</td>\n",
       "      <td>-37.08</td>\n",
       "      <td>0.02</td>\n",
       "      <td>8598.67</td>\n",
       "      <td>8743.67</td>\n",
       "      <td>-145.00</td>\n",
       "    </tr>\n",
       "    <tr>\n",
       "      <th>1</th>\n",
       "      <td>0.03</td>\n",
       "      <td>-5.53</td>\n",
       "      <td>0.04</td>\n",
       "      <td>8246.73</td>\n",
       "      <td>8496.47</td>\n",
       "      <td>-249.74</td>\n",
       "    </tr>\n",
       "    <tr>\n",
       "      <th>2</th>\n",
       "      <td>0.02</td>\n",
       "      <td>-9.10</td>\n",
       "      <td>0.03</td>\n",
       "      <td>8354.93</td>\n",
       "      <td>8901.69</td>\n",
       "      <td>-546.76</td>\n",
       "    </tr>\n",
       "    <tr>\n",
       "      <th>3</th>\n",
       "      <td>0.00</td>\n",
       "      <td>-7.93</td>\n",
       "      <td>0.00</td>\n",
       "      <td>6890.28</td>\n",
       "      <td>7090.89</td>\n",
       "      <td>-200.60</td>\n",
       "    </tr>\n",
       "    <tr>\n",
       "      <th>4</th>\n",
       "      <td>0.02</td>\n",
       "      <td>-10.89</td>\n",
       "      <td>0.04</td>\n",
       "      <td>7328.27</td>\n",
       "      <td>7502.81</td>\n",
       "      <td>-174.54</td>\n",
       "    </tr>\n",
       "    <tr>\n",
       "      <th>...</th>\n",
       "      <td>...</td>\n",
       "      <td>...</td>\n",
       "      <td>...</td>\n",
       "      <td>...</td>\n",
       "      <td>...</td>\n",
       "      <td>...</td>\n",
       "    </tr>\n",
       "    <tr>\n",
       "      <th>495</th>\n",
       "      <td>0.02</td>\n",
       "      <td>-12.29</td>\n",
       "      <td>0.03</td>\n",
       "      <td>7643.47</td>\n",
       "      <td>7834.15</td>\n",
       "      <td>-190.68</td>\n",
       "    </tr>\n",
       "    <tr>\n",
       "      <th>496</th>\n",
       "      <td>0.03</td>\n",
       "      <td>-8.19</td>\n",
       "      <td>0.04</td>\n",
       "      <td>9162.31</td>\n",
       "      <td>9290.07</td>\n",
       "      <td>-127.76</td>\n",
       "    </tr>\n",
       "    <tr>\n",
       "      <th>497</th>\n",
       "      <td>0.02</td>\n",
       "      <td>-11.44</td>\n",
       "      <td>0.03</td>\n",
       "      <td>8964.69</td>\n",
       "      <td>9325.89</td>\n",
       "      <td>-361.21</td>\n",
       "    </tr>\n",
       "    <tr>\n",
       "      <th>498</th>\n",
       "      <td>0.02</td>\n",
       "      <td>-14.10</td>\n",
       "      <td>0.03</td>\n",
       "      <td>10295.81</td>\n",
       "      <td>10606.69</td>\n",
       "      <td>-310.88</td>\n",
       "    </tr>\n",
       "    <tr>\n",
       "      <th>499</th>\n",
       "      <td>0.03</td>\n",
       "      <td>-14.53</td>\n",
       "      <td>0.05</td>\n",
       "      <td>10502.72</td>\n",
       "      <td>10681.35</td>\n",
       "      <td>-178.63</td>\n",
       "    </tr>\n",
       "  </tbody>\n",
       "</table>\n",
       "<p>500 rows × 6 columns</p>\n",
       "</div>"
      ],
      "text/plain": [
       "     beta_Area  beta_PopulationDensity  beta_SuitableArea  RMSE_Model_1  \\\n",
       "0         0.01                  -37.08               0.02       8598.67   \n",
       "1         0.03                   -5.53               0.04       8246.73   \n",
       "2         0.02                   -9.10               0.03       8354.93   \n",
       "3         0.00                   -7.93               0.00       6890.28   \n",
       "4         0.02                  -10.89               0.04       7328.27   \n",
       "..         ...                     ...                ...           ...   \n",
       "495       0.02                  -12.29               0.03       7643.47   \n",
       "496       0.03                   -8.19               0.04       9162.31   \n",
       "497       0.02                  -11.44               0.03       8964.69   \n",
       "498       0.02                  -14.10               0.03      10295.81   \n",
       "499       0.03                  -14.53               0.05      10502.72   \n",
       "\n",
       "     RMSE_Model_2  RMSE_Difference  \n",
       "0         8743.67          -145.00  \n",
       "1         8496.47          -249.74  \n",
       "2         8901.69          -546.76  \n",
       "3         7090.89          -200.60  \n",
       "4         7502.81          -174.54  \n",
       "..            ...              ...  \n",
       "495       7834.15          -190.68  \n",
       "496       9290.07          -127.76  \n",
       "497       9325.89          -361.21  \n",
       "498      10606.69          -310.88  \n",
       "499      10681.35          -178.63  \n",
       "\n",
       "[500 rows x 6 columns]"
      ]
     },
     "execution_count": 24,
     "metadata": {},
     "output_type": "execute_result"
    }
   ],
   "source": [
    "bstrap2 = bstrap2.assign(RMSE_Difference = bstrap2.RMSE_Model_1 - bstrap2.RMSE_Model_2)\n",
    "bstrap2.round(2)"
   ]
  },
  {
   "cell_type": "code",
   "execution_count": 25,
   "id": "a9112520",
   "metadata": {},
   "outputs": [
    {
     "data": {
      "text/plain": [
       "Text(0.5, 1.0, 'RMSE Difference')"
      ]
     },
     "execution_count": 25,
     "metadata": {},
     "output_type": "execute_result"
    },
    {
     "data": {
      "image/png": "[encoded data removed]",
      "text/plain": [
       "<Figure size 720x360 with 1 Axes>"
      ]
     },
     "metadata": {
      "needs_background": "light"
     },
     "output_type": "display_data"
    }
   ],
   "source": [
    "d = bstrap2['RMSE_Difference'].hist(figsize=(10,5))\n",
    "d.set_title('RMSE Difference',fontsize=14)"
   ]
  },
  {
   "cell_type": "markdown",
   "id": "3b89a440",
   "metadata": {},
   "source": [
    "#### Estimate appropriate confidence intervals for the difference in the RMSE values."
   ]
  },
  {
   "cell_type": "code",
   "execution_count": 26,
   "id": "eaaad533",
   "metadata": {},
   "outputs": [
    {
     "name": "stdout",
     "output_type": "stream",
     "text": [
      "The RMSE difference is 307.74 \n",
      "\n",
      "The 90% CI range for the RMSE difference is -541.138 to 107.198 \n",
      "\n",
      "The 99% CI range for the RMSE difference is -675.797 to 328.571 \n",
      "\n"
     ]
    }
   ],
   "source": [
    "print('The RMSE difference is', ((mean_squared_error(y2, y2_hat, squared=False))- \n",
    "      mean_squared_error(y3, y3_hat, squared=False,)).round(2),'\\n')\n",
    "\n",
    "print('The 90%% CI range for the RMSE difference is %4.3f to %4.3f \\n' % \n",
    "      (bstrap2.RMSE_Difference.quantile(0.05), bstrap2.RMSE_Difference.quantile(0.95)))\n",
    "\n",
    "print('The 99%% CI range for the RMSE difference is %4.3f to %4.3f \\n' % \n",
    "      (bstrap2.RMSE_Difference.quantile(0.005), bstrap2.RMSE_Difference.quantile(0.995)))"
   ]
  },
  {
   "cell_type": "markdown",
   "id": "0e2348ca",
   "metadata": {},
   "source": [
    "#### Explain whether we can be confident that one model predicts the number of storks better than the other model."
   ]
  },
  {
   "cell_type": "markdown",
   "id": "793b9e81",
   "metadata": {},
   "source": [
    "The parameter we are testing is the RMSE. The RMSE is responsible for telling us the error of the model, the difference between actual and predicted values. We can get an idea of how the model performs from this value and the model with the lower RMSE will perform better. Although one model may have a lower RMSE than the other, we need to confirm whether this is statistically significant because this impacts whether we take the difference as meaningful.\n",
    "\n",
    "Our RMSE for model 1 is 6984.77 and for model 2 is 6677.03. we subtract model 2 from model 1 to get the difference of 307.74 and then we use this against the bootstrapped CI to test if this is a significant difference in RMSE between models or not. The first step is to set our null hypothesis which is: One model predicts the number of storks better than the other model. In other words, one model performs better than the other and the quality metric we are using is the error (RMSE).\n",
    "\n",
    "Model 2 is the model with the lower RMSE of the two, so in theory predicts the number of storks better than model 2. However we need to test if this is a big enough difference to conclusively say and with confidence it is a better model at predictions. We would assume Model 2 is better because it has more predictors and is a more refined version of model 1 such as suitable land area rather than just land area. However, it is possible neither model is good at predicting and the initial r2 are not a big difference between them. \n",
    "\n",
    "At the 99% confidence interval we can see our RMSE difference value of 307.74 does fit in the CI range and we accept the null. At the 99% confidence interval, we are sure that if we repeated the trial many times, the true value of our r2 difference would lie in this range 99% of the time. However this RMSE difference is significant at both the 95% and 90% level and the value is impressive enough to warrant us to conclude that neither model predicts the number of storks better than the other. The null hypothesis is only accepted at 99% confidence which is a wide interval and not as precise. \n",
    "\n",
    "Having zero in our CI range means we can not be sure whether there is an effect. There is a reasonable chance that the \n",
    "true value could be 0 and therefore there wouldn't be a difference and no model would be better than the other. We can only be truly confident one models RMSE is better than the others if 0 doesn't lie in our range of CI. for the 99% and 90% CI this is the case.\n",
    "\n",
    "In conclusion we will go with the 90% confidence interval as we deem it the most appropriate. It gives us more precision and we can therefore conclude the parameter result is statistically significant along with the fact 0 lies in our CI. Therefore we are not confident one model predicts number of storks better than the other model."
   ]
  }
 ],
 "metadata": {
  "kernelspec": {
   "display_name": "Python 3",
   "language": "python",
   "name": "python3"
  },
  "language_info": {
   "codemirror_mode": {
    "name": "ipython",
    "version": 3
   },
   "file_extension": ".py",
   "mimetype": "text/x-python",
   "name": "python",
   "nbconvert_exporter": "python",
   "pygments_lexer": "ipython3",
   "version": "3.8.8"
  }
 },
 "nbformat": 4,
 "nbformat_minor": 5
}
